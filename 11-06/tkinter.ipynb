{
 "cells": [
  {
   "cell_type": "code",
   "execution_count": 7,
   "metadata": {},
   "outputs": [],
   "source": [
    "from tkinter import *\n",
    "\n",
    "root = Tk(screenName=None,baseName=None,className='window1',useTk=1) # Create a main window\n",
    "\n",
    "# Creating a Label widget\n",
    "myLabel = Label(root, text='Hello World')\n",
    "\n",
    "#showing it on the screen\n",
    "\n",
    "myLabel.pack()\n",
    "\n",
    "#method used to when your app is ready to run, wait for event to occur, process the event as long as the window is not closed.\n",
    "root.mainloop() \n"
   ]
  }
 ],
 "metadata": {
  "kernelspec": {
   "display_name": "Python 3",
   "language": "python",
   "name": "python3"
  },
  "language_info": {
   "codemirror_mode": {
    "name": "ipython",
    "version": 3
   },
   "file_extension": ".py",
   "mimetype": "text/x-python",
   "name": "python",
   "nbconvert_exporter": "python",
   "pygments_lexer": "ipython3",
   "version": "3.12.3"
  }
 },
 "nbformat": 4,
 "nbformat_minor": 2
}
