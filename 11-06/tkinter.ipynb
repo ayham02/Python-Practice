{
 "cells": [
  {
   "cell_type": "code",
   "execution_count": 7,
   "metadata": {},
   "outputs": [],
   "source": [
    "from tkinter import *\n",
    "\n",
    "root = Tk(screenName=None,baseName=None,className='window1',useTk=1) # Create a main window\n",
    "\n",
    "# Creating a Label widget\n",
    "myLabel = Label(root, text='Hello World')\n",
    "\n",
    "#showing it on the screen\n",
    "\n",
    "myLabel.pack()\n",
    "\n",
    "#method used to when your app is ready to run, wait for event to occur, process the event as long as the window is not closed.\n",
    "root.mainloop() \n"
   ]
  },
  {
   "cell_type": "markdown",
   "metadata": {},
   "source": [
    "### Positioning using TKinter's Grid System\n",
    "\n",
    "The position of the Labels present in the window even if grid are mentioned, it is relative to each other."
   ]
  },
  {
   "cell_type": "code",
   "execution_count": 5,
   "metadata": {},
   "outputs": [],
   "source": [
    "from tkinter import *\n",
    "\n",
    "root = Tk()\n",
    "\n",
    "# Creating a Label widget\n",
    "myLabel1 = Label(root, text='Hello World')\n",
    "myLabel2 = Label(root, text='My Name is Ayham')\n",
    "myLabel3 = Label(root, text='Today is Tuesday')\n",
    "\n",
    "myLabel1.grid(row=0,column=0)\n",
    "myLabel2.grid(row=1,column=1)\n",
    "myLabel3.grid(row=2,column=3)\n",
    "\n",
    "root.mainloop()"
   ]
  },
  {
   "cell_type": "markdown",
   "metadata": {},
   "source": [
    "also be intrepeted as\n"
   ]
  },
  {
   "cell_type": "code",
   "execution_count": 12,
   "metadata": {},
   "outputs": [],
   "source": [
    "from tkinter import *\n",
    "\n",
    "root = Tk()\n",
    "\n",
    "# Creating a Label widget\n",
    "myLabel1 = Label(root, text='Hello World').grid(row=0,column=0)\n",
    "myLabel2 = Label(root, text='My Name is Ayham').grid(row=1,column=1)\n",
    "myLabel3 = Label(root, text='Today is Tuesday').grid(row=1,column=5)\n",
    "\n",
    "root.mainloop()\n",
    "\n"
   ]
  },
  {
   "cell_type": "markdown",
   "metadata": {},
   "source": [
    "## Creating Buttons"
   ]
  },
  {
   "cell_type": "code",
   "execution_count": 13,
   "metadata": {},
   "outputs": [],
   "source": [
    "from tkinter import *\n",
    "\n",
    "root =Tk()\n",
    "\n",
    "myButton1 = Button(root, text=\"Click Me\") # normal button\n",
    "myButton1.pack()\n",
    "\n",
    "root.mainloop()"
   ]
  },
  {
   "cell_type": "code",
   "execution_count": 14,
   "metadata": {},
   "outputs": [],
   "source": [
    "from tkinter import *\n",
    "\n",
    "root =Tk()\n",
    "\n",
    "myButton1 = Button(root, text=\"Click Me\", state=DISABLED) # disabled button\n",
    "myButton1.pack()\n",
    "\n",
    "root.mainloop()"
   ]
  },
  {
   "cell_type": "code",
   "execution_count": 16,
   "metadata": {},
   "outputs": [],
   "source": [
    "from tkinter import *\n",
    "\n",
    "root =Tk()\n",
    "\n",
    "myButton1 = Button(root, text=\"Click Me\", padx=50)# normal button but wider using padx\n",
    "myButton2 = Button(root, text=\"Click Me\", pady=50) # normal button but taller using pady\n",
    "myButton1.pack()\n",
    "myButton2.pack()\n",
    "\n",
    "root.mainloop()"
   ]
  },
  {
   "cell_type": "markdown",
   "metadata": {},
   "source": [
    "making the button do some function\n"
   ]
  },
  {
   "cell_type": "code",
   "execution_count": 3,
   "metadata": {},
   "outputs": [],
   "source": [
    "from tkinter import *\n",
    "\n",
    "root =Tk()\n",
    "\n",
    "def myClick():\n",
    "    myLabel1 = Label(root, text='You successfully clicked the button !')\n",
    "    myLabel1.pack()\n",
    "\n",
    "myButton1 = Button(root, text=\"Click Me\", padx=50, command=myClick, fg='blue', bg='yellow')# normal button but wider, when clicked executes a function\n",
    "# with foreground color blue and background yellow\n",
    "\n",
    "myButton1.pack()\n",
    "\n",
    "\n",
    "root.mainloop()"
   ]
  },
  {
   "cell_type": "markdown",
   "metadata": {},
   "source": [
    "## Creating Input Fields"
   ]
  },
  {
   "cell_type": "code",
   "execution_count": 2,
   "metadata": {},
   "outputs": [],
   "source": [
    "from tkinter import *\n",
    "\n",
    "r = Tk()\n",
    "\n",
    "e = Entry(r, width=30)\n",
    "e.pack()\n",
    "e.insert(0,'Enter your name: ')\n",
    "\n",
    "\n",
    "def myClick():\n",
    "    hello = \"Hello \" + e.get()\n",
    "    myLabel = Label(r, text=hello)\n",
    "    myLabel.pack()\n",
    "\n",
    "myButton = Button(r,text='Click when done',command=myClick)\n",
    "myButton.pack()\n",
    "\n",
    "r.mainloop()"
   ]
  }
 ],
 "metadata": {
  "kernelspec": {
   "display_name": "Python 3",
   "language": "python",
   "name": "python3"
  },
  "language_info": {
   "codemirror_mode": {
    "name": "ipython",
    "version": 3
   },
   "file_extension": ".py",
   "mimetype": "text/x-python",
   "name": "python",
   "nbconvert_exporter": "python",
   "pygments_lexer": "ipython3",
   "version": "3.12.3"
  }
 },
 "nbformat": 4,
 "nbformat_minor": 2
}
