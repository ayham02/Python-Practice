{
 "cells": [
  {
   "cell_type": "code",
   "execution_count": 7,
   "metadata": {},
   "outputs": [],
   "source": [
    "from tkinter import *\n",
    "\n",
    "root = Tk(screenName=None,baseName=None,className='window1',useTk=1) # Create a main window\n",
    "\n",
    "# Creating a Label widget\n",
    "myLabel = Label(root, text='Hello World')\n",
    "\n",
    "#showing it on the screen\n",
    "\n",
    "myLabel.pack()\n",
    "\n",
    "#method used to when your app is ready to run, wait for event to occur, process the event as long as the window is not closed.\n",
    "root.mainloop() \n"
   ]
  },
  {
   "cell_type": "markdown",
   "metadata": {},
   "source": [
    "### Positioning using TKinter's Grid System\n",
    "\n",
    "The position of the Labels present in the window even if grid are mentioned, it is relative to each other."
   ]
  },
  {
   "cell_type": "code",
   "execution_count": 5,
   "metadata": {},
   "outputs": [],
   "source": [
    "from tkinter import *\n",
    "\n",
    "root = Tk()\n",
    "\n",
    "# Creating a Label widget\n",
    "myLabel1 = Label(root, text='Hello World')\n",
    "myLabel2 = Label(root, text='My Name is Ayham')\n",
    "myLabel3 = Label(root, text='Today is Tuesday')\n",
    "\n",
    "myLabel1.grid(row=0,column=0)\n",
    "myLabel2.grid(row=1,column=1)\n",
    "myLabel3.grid(row=2,column=3)\n",
    "\n",
    "root.mainloop()"
   ]
  },
  {
   "cell_type": "markdown",
   "metadata": {},
   "source": [
    "also be intrepeted as\n"
   ]
  },
  {
   "cell_type": "code",
   "execution_count": 12,
   "metadata": {},
   "outputs": [],
   "source": [
    "from tkinter import *\n",
    "\n",
    "root = Tk()\n",
    "\n",
    "# Creating a Label widget\n",
    "myLabel1 = Label(root, text='Hello World').grid(row=0,column=0)\n",
    "myLabel2 = Label(root, text='My Name is Ayham').grid(row=1,column=1)\n",
    "myLabel3 = Label(root, text='Today is Tuesday').grid(row=1,column=5)\n",
    "\n",
    "root.mainloop()\n",
    "\n"
   ]
  },
  {
   "cell_type": "markdown",
   "metadata": {},
   "source": [
    "## Creating Buttons"
   ]
  },
  {
   "cell_type": "code",
   "execution_count": 13,
   "metadata": {},
   "outputs": [],
   "source": [
    "from tkinter import *\n",
    "\n",
    "root =Tk()\n",
    "\n",
    "myButton1 = Button(root, text=\"Click Me\") # normal button\n",
    "myButton1.pack()\n",
    "\n",
    "root.mainloop()"
   ]
  },
  {
   "cell_type": "code",
   "execution_count": 14,
   "metadata": {},
   "outputs": [],
   "source": [
    "from tkinter import *\n",
    "\n",
    "root =Tk()\n",
    "\n",
    "myButton1 = Button(root, text=\"Click Me\", state=DISABLED) # disabled button\n",
    "myButton1.pack()\n",
    "\n",
    "root.mainloop()"
   ]
  },
  {
   "cell_type": "code",
   "execution_count": 16,
   "metadata": {},
   "outputs": [],
   "source": [
    "from tkinter import *\n",
    "\n",
    "root =Tk()\n",
    "\n",
    "myButton1 = Button(root, text=\"Click Me\", padx=50)# normal button but wider using padx\n",
    "myButton2 = Button(root, text=\"Click Me\", pady=50) # normal button but taller using pady\n",
    "myButton1.pack()\n",
    "myButton2.pack()\n",
    "\n",
    "root.mainloop()"
   ]
  },
  {
   "cell_type": "markdown",
   "metadata": {},
   "source": [
    "making the button do some function\n"
   ]
  },
  {
   "cell_type": "code",
   "execution_count": 3,
   "metadata": {},
   "outputs": [],
   "source": [
    "from tkinter import *\n",
    "\n",
    "root =Tk()\n",
    "\n",
    "def myClick():\n",
    "    myLabel1 = Label(root, text='You successfully clicked the button !')\n",
    "    myLabel1.pack()\n",
    "\n",
    "myButton1 = Button(root, text=\"Click Me\", padx=50, command=myClick, fg='blue', bg='yellow')# normal button but wider, when clicked executes a function\n",
    "# with foreground color blue and background yellow\n",
    "\n",
    "myButton1.pack()\n",
    "\n",
    "\n",
    "root.mainloop()"
   ]
  },
  {
   "cell_type": "markdown",
   "metadata": {},
   "source": [
    "## Creating Input Fields"
   ]
  },
  {
   "cell_type": "code",
   "execution_count": 2,
   "metadata": {},
   "outputs": [],
   "source": [
    "from tkinter import *\n",
    "\n",
    "r = Tk()\n",
    "\n",
    "e = Entry(r, width=30)\n",
    "e.pack()\n",
    "e.insert(0,'Enter your name: ')\n",
    "\n",
    "\n",
    "def myClick():\n",
    "    hello = \"Hello \" + e.get()\n",
    "    myLabel = Label(r, text=hello)\n",
    "    myLabel.pack()\n",
    "\n",
    "myButton = Button(r,text='Click when done',command=myClick)\n",
    "myButton.pack()\n",
    "\n",
    "r.mainloop()"
   ]
  },
  {
   "cell_type": "markdown",
   "metadata": {},
   "source": [
    "## Creating a Calculator"
   ]
  },
  {
   "cell_type": "code",
   "execution_count": 15,
   "metadata": {},
   "outputs": [
    {
     "name": "stderr",
     "output_type": "stream",
     "text": [
      "Exception in Tkinter callback\n",
      "Traceback (most recent call last):\n",
      "  File \"c:\\Program Files\\Python312\\Lib\\tkinter\\__init__.py\", line 1967, in __call__\n",
      "    return self.func(*args)\n",
      "           ^^^^^^^^^^^^^^^^\n",
      "  File \"C:\\Users\\mdayh\\AppData\\Local\\Temp\\ipykernel_4852\\2836381452.py\", line 29, in <lambda>\n",
      "    button_clear = Button(root, text='clear', padx=40, pady=40,command=lambda: button_click())\n",
      "                                                                               ^^^^^^^^^^^^^^\n",
      "TypeError: button_click() missing 1 required positional argument: 'number'\n"
     ]
    }
   ],
   "source": [
    "from tkinter import *\n",
    "\n",
    "root = Tk()\n",
    "root.title(\"Simple Calculator\")\n",
    "\n",
    "e1 = Entry(root, width=35, borderwidth=5)\n",
    "e1.grid(row=0, column=0, columnspan=3, padx=10, pady=10)\n",
    "\n",
    "# e.insert(0.'')\n",
    "\n",
    "def button_click(number):\n",
    "    #e1.delete(0, END)\n",
    "    current = e1.get()\n",
    "    e1.delete(0, END)\n",
    "    e1.insert(0, str(current) + str(number))\n",
    "\n",
    "\n",
    "button_1 = Button(root, text='1', padx=40, pady=40,command=lambda: button_click(1))\n",
    "button_2 = Button(root, text='2', padx=40, pady=40,command=lambda: button_click(2))\n",
    "button_3 = Button(root, text='3', padx=40, pady=40,command=lambda: button_click(3))\n",
    "button_4 = Button(root, text='4', padx=40, pady=40,command=lambda: button_click(4))\n",
    "button_5 = Button(root, text='5', padx=40, pady=40,command=lambda: button_click(5))\n",
    "button_6 = Button(root, text='6', padx=40, pady=40,command=lambda: button_click(6))\n",
    "button_7 = Button(root, text='7', padx=40, pady=40,command=lambda: button_click(7))\n",
    "button_8 = Button(root, text='8', padx=40, pady=40,command=lambda: button_click(8))\n",
    "button_9 = Button(root, text='9', padx=40, pady=40,command=lambda: button_click(9))\n",
    "button_0 = Button(root, text='0', padx=40, pady=40,command=lambda: button_click(0))\n",
    "button_add = Button(root, text='+', padx=40, pady=40,command=lambda: button_click())\n",
    "button_clear = Button(root, text='clear', padx=40, pady=40,command=lambda: button_click())\n",
    "button_equal = Button(root, text='=', padx=40, pady=40,command=lambda: button_click())\n",
    "\n",
    "button_7.grid(row=1,column=0)\n",
    "button_8.grid(row=1,column=1)\n",
    "button_9.grid(row=1,column=2)\n",
    "\n",
    "button_4.grid(row=2,column=0)\n",
    "button_5.grid(row=2,column=1)\n",
    "button_6.grid(row=2,column=2)\n",
    "\n",
    "button_1.grid(row=3,column=0)\n",
    "button_2.grid(row=3,column=1)\n",
    "button_3.grid(row=3,column=2)\n",
    "\n",
    "button_0.grid(row=4,column=0)\n",
    "button_clear.grid(row=4,columnspan=2,column=1)\n",
    "\n",
    "\n",
    "root.mainloop()"
   ]
  }
 ],
 "metadata": {
  "kernelspec": {
   "display_name": "Python 3",
   "language": "python",
   "name": "python3"
  },
  "language_info": {
   "codemirror_mode": {
    "name": "ipython",
    "version": 3
   },
   "file_extension": ".py",
   "mimetype": "text/x-python",
   "name": "python",
   "nbconvert_exporter": "python",
   "pygments_lexer": "ipython3",
   "version": "3.12.3"
  }
 },
 "nbformat": 4,
 "nbformat_minor": 2
}
