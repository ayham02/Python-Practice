{
 "cells": [
  {
   "cell_type": "markdown",
   "metadata": {},
   "source": [
    "## Input And Output Statements "
   ]
  },
  {
   "cell_type": "code",
   "execution_count": 10,
   "metadata": {},
   "outputs": [
    {
     "name": "stdout",
     "output_type": "stream",
     "text": [
      "Ayham\n"
     ]
    }
   ],
   "source": [
    "input1 = input(\"Enter Your Input\")\n",
    "print(input1)"
   ]
  },
  {
   "cell_type": "markdown",
   "metadata": {},
   "source": [
    "## Data Types"
   ]
  },
  {
   "cell_type": "code",
   "execution_count": 11,
   "metadata": {},
   "outputs": [
    {
     "name": "stdout",
     "output_type": "stream",
     "text": [
      "<class 'int'> <class 'float'> <class 'complex'>\n"
     ]
    }
   ],
   "source": [
    "## Numeric Types (Integer, Float, Complex)\n",
    "x1 = 3\n",
    "x2 = 3.14\n",
    "x3 = 1 + 0j\n",
    "\n",
    "print(type(x1),type(x2),type(x3),sep=\" \")"
   ]
  },
  {
   "cell_type": "code",
   "execution_count": 12,
   "metadata": {},
   "outputs": [
    {
     "name": "stdout",
     "output_type": "stream",
     "text": [
      "<class 'str'> <class 'list'> <class 'tuple'>\n"
     ]
    }
   ],
   "source": [
    "## Sequence Types (String, List, Tuple)\n",
    "\n",
    "x1 = \"ayham\"\n",
    "x2 = [1,2,3,'list']\n",
    "x3 = (1,2,3,4,5,'Ayham')\n",
    "\n",
    "print(type(x1),type(x2),type(x3),sep=\" \")"
   ]
  },
  {
   "cell_type": "code",
   "execution_count": 13,
   "metadata": {},
   "outputs": [
    {
     "name": "stdout",
     "output_type": "stream",
     "text": [
      "0 1 2 3 4 5 "
     ]
    }
   ],
   "source": [
    "## Range\n",
    "for i in range(0,6):\n",
    "    print(i,end=' ')"
   ]
  },
  {
   "cell_type": "code",
   "execution_count": 14,
   "metadata": {},
   "outputs": [
    {
     "name": "stdout",
     "output_type": "stream",
     "text": [
      "dict_keys(['name', 'age'])\n",
      "dict_values(['Ayham', 18])\n",
      "<class 'dict'>\n"
     ]
    }
   ],
   "source": [
    "# Mapping Types\n",
    "dict1 = {\"name\":\"Ayham\",\"age\":18}\n",
    "print(dict1.keys())\n",
    "print(dict1.values())\n",
    "print(type(dict1))"
   ]
  },
  {
   "cell_type": "code",
   "execution_count": 15,
   "metadata": {},
   "outputs": [
    {
     "name": "stdout",
     "output_type": "stream",
     "text": [
      "<class 'set'>\n"
     ]
    }
   ],
   "source": [
    "# Set Types :- Set, unfrozed\n",
    "x1 = {1,2,3,4,5}\n",
    "\n",
    "print(type(x1))"
   ]
  },
  {
   "cell_type": "markdown",
   "metadata": {},
   "source": [
    "## Expressions and Operators"
   ]
  },
  {
   "cell_type": "code",
   "execution_count": 16,
   "metadata": {},
   "outputs": [
    {
     "name": "stdout",
     "output_type": "stream",
     "text": [
      "20\n",
      "16\n",
      "36\n",
      "9.0\n",
      "9\n",
      "0\n",
      "324\n",
      "False\n",
      "True\n",
      "True\n",
      "False\n",
      "True\n",
      "False\n",
      "True\n",
      "True\n",
      "False\n"
     ]
    }
   ],
   "source": [
    "a = 18\n",
    "b = 2\n",
    "\n",
    "# Arithmetic Operators\n",
    "print(a + b)  # Addition: 20\n",
    "print(a - b)  # Subtraction: 16\n",
    "print(a * b)  # Multiplication: 36\n",
    "print(a / b)  # Division: 9.0\n",
    "print(a // b) # Floor Division: 9\n",
    "print(a % b)  # Modulus: 0\n",
    "print(a ** b) # Exponentiation: 324\n",
    "\n",
    "# Comparison Operators\n",
    "print(a == b) # Equal to: False\n",
    "print(a != b) # Not equal to: True\n",
    "print(a > b)  # Greater than: True\n",
    "print(a < b)  # Less than: False\n",
    "print(a >= b) # Greater than or equal to: True\n",
    "print(a <= b) # Less than or equal to: False\n",
    "\n",
    "# Logical Operators\n",
    "print(a > 5 and b < 5)  # and: True\n",
    "print(a > 5 or b < 1)   # or: True\n",
    "print(not(a > 5 and b < 5)) # not: False"
   ]
  },
  {
   "cell_type": "markdown",
   "metadata": {},
   "source": [
    "## Type Casting"
   ]
  },
  {
   "cell_type": "code",
   "execution_count": 17,
   "metadata": {},
   "outputs": [
    {
     "name": "stdout",
     "output_type": "stream",
     "text": [
      "3  <class 'int'>\n",
      "10.0  <class 'float'>\n",
      "100  <class 'str'>\n",
      "['H', 'e', 'l', 'l', 'o']  <class 'list'>\n",
      "(1, 2, 3, 4, 5)  <class 'tuple'>\n",
      "{1, 2, 3, 4, 5}  <class 'set'>\n"
     ]
    }
   ],
   "source": [
    "int_from_float = int(3.14)\n",
    "float_from_int = float(10)\n",
    "string_from_int = str(100)\n",
    "list_from_string = list(\"Hello\")\n",
    "tuple_from_list = tuple([1, 2, 3, 4, 5])\n",
    "set_from_list = set([1, 2, 3, 4, 5])\n",
    "\n",
    "print(int_from_float, type(int_from_float),sep=\"  \")\n",
    "print(float_from_int, type(float_from_int),sep=\"  \")\n",
    "print(string_from_int, type(string_from_int),sep=\"  \")\n",
    "print(list_from_string, type(list_from_string),sep=\"  \")\n",
    "print(tuple_from_list, type(tuple_from_list),sep=\"  \")\n",
    "print(set_from_list, type(set_from_list),sep=\"  \")"
   ]
  },
  {
   "cell_type": "markdown",
   "metadata": {},
   "source": [
    "## Conditional Statements"
   ]
  },
  {
   "cell_type": "code",
   "execution_count": 18,
   "metadata": {},
   "outputs": [
    {
     "name": "stdout",
     "output_type": "stream",
     "text": [
      "20 is greater than 10\n"
     ]
    }
   ],
   "source": [
    "a = 20\n",
    "b = 10\n",
    "\n",
    "if a > b:\n",
    "    print(f\"{a} is greater than {b}\")\n",
    "elif a < b:\n",
    "    print(f\"{a} is less than {b}\")\n",
    "else:\n",
    "    print(f\"{a} is equal to {b}\")"
   ]
  },
  {
   "cell_type": "markdown",
   "metadata": {},
   "source": [
    "## Looping Statements"
   ]
  },
  {
   "cell_type": "code",
   "execution_count": 19,
   "metadata": {},
   "outputs": [
    {
     "name": "stdout",
     "output_type": "stream",
     "text": [
      "bmw\n",
      "benz\n",
      "porsche\n",
      "0\n",
      "1\n",
      "2\n",
      "3\n",
      "4\n",
      "5\n",
      "6\n",
      "7\n",
      "8\n",
      "9\n"
     ]
    }
   ],
   "source": [
    "cars = [\"bmw\", \"benz\", \"porsche\"]\n",
    "for car in cars:\n",
    "    print(car)\n",
    "\n",
    "# While loop\n",
    "count = 0\n",
    "while count < 10:\n",
    "    print(count)\n",
    "    count += 1"
   ]
  },
  {
   "cell_type": "markdown",
   "metadata": {},
   "source": [
    "## Jumping Statements"
   ]
  },
  {
   "cell_type": "code",
   "execution_count": 20,
   "metadata": {},
   "outputs": [
    {
     "name": "stdout",
     "output_type": "stream",
     "text": [
      "012345\n",
      "012346789"
     ]
    }
   ],
   "source": [
    "for i in range(10):\n",
    "    if i == 6:\n",
    "        break\n",
    "    print(i,end='')\n",
    "\n",
    "print('')\n",
    "# continue statement\n",
    "for i in range(10):\n",
    "    if i == 5:\n",
    "        continue\n",
    "    print(i,end=\"\")"
   ]
  },
  {
   "cell_type": "markdown",
   "metadata": {},
   "source": [
    "## Special Functions"
   ]
  },
  {
   "cell_type": "code",
   "execution_count": 21,
   "metadata": {},
   "outputs": [
    {
     "name": "stdout",
     "output_type": "stream",
     "text": [
      "3\n",
      "2319659584128\n",
      "<class 'list'>\n",
      "0 1 2 3 4 "
     ]
    }
   ],
   "source": [
    "# Special Functions\n",
    "cars = [\"bmw\", \"benz\", \"porsche\"]\n",
    "\n",
    "# len()\n",
    "print(len(cars))  # Output: 3\n",
    "\n",
    "# id()\n",
    "print(id(cars))  # Output: Unique ID of the list object\n",
    "\n",
    "# type()\n",
    "print(type(cars))  # Output: <class 'list'>\n",
    "\n",
    "# range()\n",
    "for i in range(5):\n",
    "    print(i, end=\" \")  # Output: 0 1 2 3 4"
   ]
  }
 ],
 "metadata": {
  "kernelspec": {
   "display_name": "Python 3",
   "language": "python",
   "name": "python3"
  },
  "language_info": {
   "codemirror_mode": {
    "name": "ipython",
    "version": 3
   },
   "file_extension": ".py",
   "mimetype": "text/x-python",
   "name": "python",
   "nbconvert_exporter": "python",
   "pygments_lexer": "ipython3",
   "version": "3.12.3"
  }
 },
 "nbformat": 4,
 "nbformat_minor": 2
}
