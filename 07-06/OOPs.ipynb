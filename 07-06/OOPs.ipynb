{
 "cells": [
  {
   "cell_type": "markdown",
   "metadata": {},
   "source": [
    "### Class and Objects\n",
    "\n",
    "class is a blueprint for creating objects with its own set of attributes\n"
   ]
  },
  {
   "cell_type": "code",
   "execution_count": null,
   "metadata": {},
   "outputs": [],
   "source": [
    "class Cars:\n",
    "    pass        # empty class\n",
    "\n",
    "bmw = Cars()       # Creating an Object"
   ]
  },
  {
   "cell_type": "markdown",
   "metadata": {},
   "source": [
    "### Instance variables\n",
    "\n",
    "Variables that are specific to each instances of the created object\n"
   ]
  },
  {
   "cell_type": "code",
   "execution_count": 12,
   "metadata": {},
   "outputs": [
    {
     "data": {
      "text/plain": [
       "'BMW X1'"
      ]
     },
     "execution_count": 12,
     "metadata": {},
     "output_type": "execute_result"
    }
   ],
   "source": [
    "class Cars:\n",
    "\n",
    "    def name(self):\n",
    "        if hasattr(self,'naming'): # checking for instance variable, if not creating one and giving input\n",
    "            self.name = \"\"\n",
    "        self.name = input()\n",
    "        return \"BMW \"+self.name # returning the name\n",
    "        \n",
    "bmw = Cars()\n",
    "bmw.name()\n"
   ]
  },
  {
   "cell_type": "markdown",
   "metadata": {},
   "source": [
    "### Class Variables\n",
    "\n",
    "variables that are available for every instances in the object"
   ]
  },
  {
   "cell_type": "code",
   "execution_count": 15,
   "metadata": {},
   "outputs": [
    {
     "data": {
      "text/plain": [
       "'Benz S650'"
      ]
     },
     "execution_count": 15,
     "metadata": {},
     "output_type": "execute_result"
    }
   ],
   "source": [
    "class Cars:\n",
    "    name = \"\"       # declaring a class variable\n",
    "\n",
    "    def naming(self):\n",
    "        if self.name == \"\":\n",
    "            self.name = input()\n",
    "            return \"Benz \"+self.name\n",
    "        else:\n",
    "            return \"Benz \"+self.name\n",
    "\n",
    "benz = Cars()\n",
    "benz.naming()\n"
   ]
  },
  {
   "cell_type": "markdown",
   "metadata": {},
   "source": [
    "## Data MEethods\n",
    "\n",
    "### Normal Methods\n",
    "\n",
    "also known as instance methods, accessing the instance data using self parameter, which is the current instance of the class"
   ]
  },
  {
   "cell_type": "code",
   "execution_count": 17,
   "metadata": {},
   "outputs": [
    {
     "name": "stdout",
     "output_type": "stream",
     "text": [
      "BMW X5\n"
     ]
    }
   ],
   "source": [
    "class Cars:\n",
    "    def naming(self):       # normal method, taking self as an argument.\n",
    "        print(\"BMW X5\")\n",
    "\n",
    "bmw = Cars()\n",
    "bmw.naming()"
   ]
  },
  {
   "cell_type": "markdown",
   "metadata": {},
   "source": [
    "### Class Methods \n",
    "\n",
    "methods bound to the class itself, not the current or creating instances. taking class"
   ]
  },
  {
   "cell_type": "code",
   "execution_count": 20,
   "metadata": {},
   "outputs": [
    {
     "data": {
      "text/plain": [
       "' BMW i8'"
      ]
     },
     "execution_count": 20,
     "metadata": {},
     "output_type": "execute_result"
    }
   ],
   "source": [
    "class Cars:\n",
    "    name = \"\"   # Class variable declaration\n",
    "\n",
    "    def naming(self):\n",
    "        if\n",
    "        Cars.name = \" BMW i8\"\n",
    "        return Cars.name\n",
    "\n",
    "bmw1 = Cars()\n",
    "bmw1.naming()\n",
    "\n",
    "benz1 = Cars()\n",
    "benz1.name = 'Benz GL 650'\n",
    "benz1.naming() "
   ]
  }
 ],
 "metadata": {
  "kernelspec": {
   "display_name": "Python 3",
   "language": "python",
   "name": "python3"
  },
  "language_info": {
   "codemirror_mode": {
    "name": "ipython",
    "version": 3
   },
   "file_extension": ".py",
   "mimetype": "text/x-python",
   "name": "python",
   "nbconvert_exporter": "python",
   "pygments_lexer": "ipython3",
   "version": "3.12.3"
  }
 },
 "nbformat": 4,
 "nbformat_minor": 2
}
