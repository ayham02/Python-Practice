{
 "cells": [
  {
   "cell_type": "markdown",
   "metadata": {},
   "source": [
    "### Class and Objects\n",
    "\n",
    "class is a blueprint for creating objects with its own set of attributes\n"
   ]
  },
  {
   "cell_type": "code",
   "execution_count": null,
   "metadata": {},
   "outputs": [],
   "source": [
    "class Cars:\n",
    "    pass        # empty class\n",
    "\n",
    "bmw = Cars()       # Creating an Object"
   ]
  },
  {
   "cell_type": "markdown",
   "metadata": {},
   "source": [
    "### Instance variables\n",
    "\n",
    "Variables that are specific to each instances of the created object\n"
   ]
  },
  {
   "cell_type": "code",
   "execution_count": 12,
   "metadata": {},
   "outputs": [
    {
     "data": {
      "text/plain": [
       "'BMW X1'"
      ]
     },
     "execution_count": 12,
     "metadata": {},
     "output_type": "execute_result"
    }
   ],
   "source": [
    "class Cars:\n",
    "\n",
    "    def name(self):\n",
    "        if hasattr(self,'naming'): # checking for instance variable, if not creating one and giving input\n",
    "            self.name = \"\"\n",
    "        self.name = input()\n",
    "        return \"BMW \"+self.name # returning the name\n",
    "        \n",
    "bmw = Cars()\n",
    "bmw.name()\n"
   ]
  },
  {
   "cell_type": "markdown",
   "metadata": {},
   "source": [
    "### Class Variables\n",
    "\n",
    "variables that are available for every instances in the object"
   ]
  },
  {
   "cell_type": "code",
   "execution_count": 15,
   "metadata": {},
   "outputs": [
    {
     "data": {
      "text/plain": [
       "'Benz S650'"
      ]
     },
     "execution_count": 15,
     "metadata": {},
     "output_type": "execute_result"
    }
   ],
   "source": [
    "class Cars:\n",
    "    name = \"\"       # declaring a class variable\n",
    "\n",
    "    def naming(self):\n",
    "        if self.name == \"\":\n",
    "            self.name = input()\n",
    "            return \"Benz \"+self.name\n",
    "        else:\n",
    "            return \"Benz \"+self.name\n",
    "\n",
    "benz = Cars()\n",
    "benz.naming()\n"
   ]
  },
  {
   "cell_type": "markdown",
   "metadata": {},
   "source": [
    "## Data Methods\n",
    "\n",
    "### Normal Methods\n",
    "\n",
    "also known as instance methods, accessing the instance data using self parameter, which is the current instance of the class"
   ]
  },
  {
   "cell_type": "code",
   "execution_count": 17,
   "metadata": {},
   "outputs": [
    {
     "name": "stdout",
     "output_type": "stream",
     "text": [
      "BMW X5\n"
     ]
    }
   ],
   "source": [
    "class Cars:\n",
    "    def naming(self):       # normal method, taking self as an argument.\n",
    "        print(\"BMW X5\")\n",
    "\n",
    "bmw = Cars()\n",
    "bmw.naming()"
   ]
  },
  {
   "cell_type": "markdown",
   "metadata": {},
   "source": [
    "### Class Methods \n",
    "\n",
    "methods bound to the class itself, not the current or creating instances. taking class"
   ]
  },
  {
   "cell_type": "code",
   "execution_count": 24,
   "metadata": {},
   "outputs": [
    {
     "name": "stdout",
     "output_type": "stream",
     "text": [
      "Benz\n"
     ]
    },
    {
     "data": {
      "text/plain": [
       "'BMW'"
      ]
     },
     "execution_count": 24,
     "metadata": {},
     "output_type": "execute_result"
    }
   ],
   "source": [
    "class Cars:\n",
    "    name = \"\"   # Class variable declaration\n",
    "\n",
    "    def naming(self):       \n",
    "        Cars.name = 'BMW' \n",
    "        return Cars.name\n",
    "\n",
    "benz = Cars()\n",
    "benz.name = \"Benz\"\n",
    "print(benz.name)\n",
    "\n",
    "bmw = Cars()\n",
    "bmw.naming()"
   ]
  },
  {
   "cell_type": "markdown",
   "metadata": {},
   "source": [
    "### Static Methods\n",
    "\n",
    "Methods not associated with class or any instances created\n",
    "\n"
   ]
  },
  {
   "cell_type": "code",
   "execution_count": 26,
   "metadata": {},
   "outputs": [
    {
     "name": "stdout",
     "output_type": "stream",
     "text": [
      "True\n",
      "True\n"
     ]
    }
   ],
   "source": [
    "class Calculator:\n",
    "\n",
    "    def isodd(n):\n",
    "        return n%2 != 0\n",
    "    \n",
    "    def isnotprime(n):\n",
    "        if n < 2:\n",
    "            return True\n",
    "        for i in range(2, int(n ** 0.5) + 1):\n",
    "            if n % i == 0:\n",
    "                return True\n",
    "        return True\n",
    "    \n",
    "\n",
    "print(Calculator.isnotprime(6))\n",
    "print(Calculator.isodd(9))"
   ]
  },
  {
   "cell_type": "markdown",
   "metadata": {},
   "source": [
    "## Special Methods\n",
    "\n",
    "### __init__ method\n",
    "\n",
    "initializes the object's attributes when the object is created"
   ]
  },
  {
   "cell_type": "code",
   "execution_count": 1,
   "metadata": {},
   "outputs": [
    {
     "name": "stdout",
     "output_type": "stream",
     "text": [
      "Mango Tree\n"
     ]
    }
   ],
   "source": [
    "class Tree:\n",
    "    def __init__(self,name):\n",
    "        self.name = name + \" Tree\"\n",
    "\n",
    "T1 = Tree('Mango')\n",
    "print(T1.name)\n",
    "\n"
   ]
  },
  {
   "cell_type": "markdown",
   "metadata": {},
   "source": [
    "###  __str__ Method\n",
    "\n",
    "used to convert an object to a string when using print or str functions"
   ]
  },
  {
   "cell_type": "code",
   "execution_count": 3,
   "metadata": {},
   "outputs": [
    {
     "name": "stdout",
     "output_type": "stream",
     "text": [
      "Mango of length 25 metre\n",
      "Mango of length 25 metre\n"
     ]
    }
   ],
   "source": [
    "class Tree:\n",
    "    def __init__(self,name,length):\n",
    "        self.name = name\n",
    "        self.length = length\n",
    "\n",
    "    def __str__(self):\n",
    "        return f\"{self.name} of length {self.length} metre\"\n",
    "\n",
    "\n",
    "tree1 = Tree(\"Mango\",25)\n",
    "print(tree1)"
   ]
  },
  {
   "cell_type": "markdown",
   "metadata": {},
   "source": [
    "### __New__ Method\n",
    "static method called before the init method when creating a new instance of a class. responsible for creating and returning the new instance of the class."
   ]
  },
  {
   "cell_type": "code",
   "execution_count": 4,
   "metadata": {},
   "outputs": [
    {
     "name": "stdout",
     "output_type": "stream",
     "text": [
      "Creating a new instance of Tree\n",
      "Mango of length (25 metres)\n"
     ]
    }
   ],
   "source": [
    "class Tree:\n",
    "    def __new__(cls, *args, **kwargs):\n",
    "        print(\"Creating a new instance of Tree\")\n",
    "        return super(Tree, cls).__new__(cls)\n",
    "    \n",
    "    def __init__(self, name, length):\n",
    "        self.name = name\n",
    "        self.length = length\n",
    "\n",
    "    def __str__(self):\n",
    "        return f\"{self.name} of length ({self.length} metres)\"\n",
    "    \n",
    "\n",
    "tree1 = Tree(\"Mango\",25)\n",
    "print(tree1)\n"
   ]
  },
  {
   "cell_type": "markdown",
   "metadata": {},
   "source": [
    "### Constructor and Deconstructor\n",
    "\n",
    "Constructor called automatically called when an instance of object of class is created. intializes its attributes and values and do other neccesary steps"
   ]
  },
  {
   "cell_type": "code",
   "execution_count": 5,
   "metadata": {},
   "outputs": [
    {
     "name": "stdout",
     "output_type": "stream",
     "text": [
      "Constructor called\n",
      "Deconstructor called\n"
     ]
    }
   ],
   "source": [
    "class Tree:\n",
    "    def __init__(self):  # constructor method\n",
    "        print(\"Constructor called\")  # Print message when constructor is called\n",
    "\n",
    "    def __del__(self):  # deconstructor method\n",
    "        print(\"Deconstructor called\")  # Print message when deconstructor is called\n",
    "\n",
    "tree1 = Tree()  # Output: Constructor called  # Creating an instance of the MyClass class\n",
    "del tree1  # Output: Deconstructor called  # Deleting the obj instance\n",
    "     "
   ]
  },
  {
   "cell_type": "markdown",
   "metadata": {},
   "source": [
    "#### constructor without arguments\n",
    "\n",
    "if want to initialize any attributes in constructor, can define a class without init method, it will give a default constructor without any arguments"
   ]
  },
  {
   "cell_type": "code",
   "execution_count": 6,
   "metadata": {},
   "outputs": [
    {
     "name": "stdout",
     "output_type": "stream",
     "text": [
      "Mango\n"
     ]
    }
   ],
   "source": [
    "class Tree:\n",
    "    def __init__(self):\n",
    "        self.name = \"Mango\"\n",
    "\n",
    "tree1 = Tree()\n",
    "print(tree1.name)"
   ]
  },
  {
   "cell_type": "markdown",
   "metadata": {},
   "source": [
    "#### constructor with arguments\n",
    "can also define a constructor that takes attributes which initializes the object's attributes\n"
   ]
  },
  {
   "cell_type": "code",
   "execution_count": 7,
   "metadata": {},
   "outputs": [
    {
     "name": "stdout",
     "output_type": "stream",
     "text": [
      "papaya\n"
     ]
    }
   ],
   "source": [
    "class Tree:\n",
    "    def __init__(self, name):  # defining constructor with 1 argument\n",
    "        self.name = name  # Initializing instance variable with value as argument\n",
    "\n",
    "papaya1 = Tree(\"papaya\")  # Creating instance of Tree class and passing papaya as argument\n",
    "print(papaya1.name)"
   ]
  },
  {
   "cell_type": "markdown",
   "metadata": {},
   "source": [
    "#### constructor with default arguments\n",
    "\n",
    "constructors are defined using init method, and automatically calls a default value the instance of object is created."
   ]
  },
  {
   "cell_type": "code",
   "execution_count": 8,
   "metadata": {},
   "outputs": [
    {
     "name": "stdout",
     "output_type": "stream",
     "text": [
      "Tree 10\n",
      "Mango 20\n"
     ]
    }
   ],
   "source": [
    "class Tree:\n",
    "\n",
    "    def __init__(self,name=\"Tree\",length=10):\n",
    "        self.name = name\n",
    "        self.length = length\n",
    "\n",
    "tree1 = Tree()\n",
    "print(tree1.name,tree1.length)\n",
    "\n",
    "tree2 = Tree(\"Mango\",20)\n",
    "print(tree2.name,tree2.length)\n",
    "        "
   ]
  },
  {
   "cell_type": "markdown",
   "metadata": {},
   "source": [
    "#### Methods with argument"
   ]
  },
  {
   "cell_type": "code",
   "execution_count": 10,
   "metadata": {},
   "outputs": [
    {
     "name": "stdout",
     "output_type": "stream",
     "text": [
      "Tree grown 15 meter from 10\n"
     ]
    }
   ],
   "source": [
    "class Tree:\n",
    "    def grow(self,length,lengthmore):\n",
    "        return f\"Tree grown {lengthmore} meter from {length}\"\n",
    "    \n",
    "tree1 = Tree()\n",
    "print(tree1.grow(10,15))"
   ]
  },
  {
   "cell_type": "markdown",
   "metadata": {},
   "source": [
    "pass an object as argument\n"
   ]
  },
  {
   "cell_type": "code",
   "execution_count": 3,
   "metadata": {},
   "outputs": [
    {
     "name": "stdout",
     "output_type": "stream",
     "text": [
      "papaya\n"
     ]
    }
   ],
   "source": [
    "class Tree:\n",
    "    def __init__(self,value):\n",
    "        self.name = value\n",
    "\n",
    "    def update(self,other):\n",
    "        self.name = other.name\n",
    "\n",
    "mango = Tree(\"mango\")\n",
    "papaya = Tree(\"papaya\")\n",
    "\n",
    "mango.update(papaya)\n",
    "\n",
    "print(mango.name)"
   ]
  },
  {
   "cell_type": "markdown",
   "metadata": {},
   "source": [
    "object as an return type"
   ]
  },
  {
   "cell_type": "code",
   "execution_count": 14,
   "metadata": {},
   "outputs": [
    {
     "name": "stdout",
     "output_type": "stream",
     "text": [
      "mangoo\n"
     ]
    }
   ],
   "source": [
    "class Tree:\n",
    "    def __init__(self,name):\n",
    "        self.name = name\n",
    "\n",
    "    def change(self):\n",
    "        self.name == 'notmango'\n",
    "        return self.name\n",
    "    \n",
    "mango = Tree('mangoo')\n",
    "mango = mango.change()\n",
    "\n",
    "print(mango)"
   ]
  },
  {
   "cell_type": "markdown",
   "metadata": {},
   "source": [
    "Method overloading"
   ]
  },
  {
   "cell_type": "code",
   "execution_count": null,
   "metadata": {},
   "outputs": [],
   "source": []
  }
 ],
 "metadata": {
  "kernelspec": {
   "display_name": "Python 3",
   "language": "python",
   "name": "python3"
  },
  "language_info": {
   "codemirror_mode": {
    "name": "ipython",
    "version": 3
   },
   "file_extension": ".py",
   "mimetype": "text/x-python",
   "name": "python",
   "nbconvert_exporter": "python",
   "pygments_lexer": "ipython3",
   "version": "3.12.4"
  }
 },
 "nbformat": 4,
 "nbformat_minor": 2
}
