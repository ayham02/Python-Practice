{
 "cells": [
  {
   "cell_type": "markdown",
   "metadata": {},
   "source": [
    "## Functions"
   ]
  },
  {
   "cell_type": "code",
   "execution_count": 2,
   "metadata": {},
   "outputs": [
    {
     "name": "stdout",
     "output_type": "stream",
     "text": [
      "Hello J!\n"
     ]
    }
   ],
   "source": [
    "def say(name): #Function definition with parameter 'name'\n",
    "    \"\"\"This function prints a message.\"\"\"\n",
    "    print(\"Hello\", name + \"!\")\n",
    "\n",
    "# Function call with argument 'Alice'\n",
    "say(\"J\")"
   ]
  },
  {
   "cell_type": "markdown",
   "metadata": {},
   "source": [
    "## Parameters "
   ]
  },
  {
   "cell_type": "code",
   "execution_count": 3,
   "metadata": {},
   "outputs": [
    {
     "name": "stdout",
     "output_type": "stream",
     "text": [
      "15\n"
     ]
    }
   ],
   "source": [
    "# Positional Arguments\n",
    "\n",
    "def area(l, b):\n",
    "  \"\"\"calculates the area of a rectangle.\"\"\"\n",
    "  return l * b\n",
    "\n",
    "# Calling the function with positional arguments\n",
    "area = area(5, 3)  # length = 5, width = 3\n",
    "print(area)  # Output: 15"
   ]
  },
  {
   "cell_type": "code",
   "execution_count": 5,
   "metadata": {},
   "outputs": [
    {
     "name": "stdout",
     "output_type": "stream",
     "text": [
      "Hi J!\n"
     ]
    }
   ],
   "source": [
    "# Keyword Arguments\n",
    "\n",
    "def say(name, message=\"Hello\"):\n",
    "  \"\"\"Greets someone with an optional message.\"\"\"\n",
    "  print(message, name + \"!\")\n",
    "\n",
    "# Calling with keyword arguments (notice order is switched)\n",
    "say(message=\"Hi\", name=\"J\")"
   ]
  },
  {
   "cell_type": "markdown",
   "metadata": {},
   "source": [
    "## Variable length Arguments\n"
   ]
  },
  {
   "cell_type": "code",
   "execution_count": 10,
   "metadata": {},
   "outputs": [
    {
     "name": "stdout",
     "output_type": "stream",
     "text": [
      "27.5\n",
      "Give atleast one number\n"
     ]
    }
   ],
   "source": [
    "def average(*nums):\n",
    "    if len(nums) == 0:\n",
    "        print(\"Give atleast one number\")\n",
    "        return\n",
    "    return sum(nums) / len(nums)\n",
    "\n",
    "avg = average(10, 20, 30, 50)\n",
    "print(avg)\n",
    "\n",
    "average()"
   ]
  },
  {
   "cell_type": "markdown",
   "metadata": {},
   "source": [
    "## Keyword Variable Length Arguments (kwargs)\n"
   ]
  },
  {
   "cell_type": "code",
   "execution_count": 12,
   "metadata": {},
   "outputs": [
    {
     "name": "stdout",
     "output_type": "stream",
     "text": [
      "Muhammed T.A Ayham\n",
      "Abdulla Al Zak\n"
     ]
    }
   ],
   "source": [
    "def full_name(first, last, *, middle=\"\"):\n",
    "  \"\"\"Combines first, middle, and last name.\"\"\"\n",
    "  return first + \" \" + middle + \" \" + last\n",
    "\n",
    "# Calling with keyword arguments (notice 'middle' is named)\n",
    "print(full_name(first=\"Muhammed\", last=\"Ayham\", middle=\"T.A\"))  # Output: Vanshika J. Singh\n",
    "\n",
    "# You can also use positional arguments for the first two parameters\n",
    "print(full_name(\"Abdulla\", \"Zak\", middle=\"Al\"))  # Output: Shubhdeep Singh Sidhu"
   ]
  },
  {
   "cell_type": "markdown",
   "metadata": {},
   "source": [
    "## Keyword-Only Arguments"
   ]
  },
  {
   "cell_type": "code",
   "execution_count": null,
   "metadata": {},
   "outputs": [],
   "source": [
    "def divide(dividend, *, divisor=1):\n",
    "  \"\"\"This function divides two numbers with an optional divisor (default 1).\"\"\"\n",
    "  return dividend / divisor\n",
    "\n",
    "# Calling with keyword argument (notice 'divisor' comes after *)\n",
    "print(divide(dividend=10, divisor=2))  # Output: 5.0\n",
    "\n",
    "print(divide(10, 2)) # This would cause an error because 'divisor' is not a positional argument "
   ]
  },
  {
   "cell_type": "markdown",
   "metadata": {},
   "source": [
    "## Higher Order Functions ( using functions as arguments for functions)"
   ]
  },
  {
   "cell_type": "code",
   "execution_count": null,
   "metadata": {},
   "outputs": [],
   "source": [
    "def shout(text):\n",
    "  \"\"\"converts to uppercase.\"\"\"\n",
    "  return text.upper()\n",
    "\n",
    "def whisper(text):\n",
    "  \"\"\"converts to lowercase.\"\"\"\n",
    "  return text.lower()\n",
    "\n",
    "def modify_text(text, func):\n",
    "  \"\"\"applies a provided function (func) to the text.\"\"\"\n",
    "  return func(text)\n",
    "\n",
    "# Calling modify_text with different functions\n",
    "yelled_text = modify_text(\"Hello world!\", shout)\n",
    "print(yelled_text)  # Output: HELLO WORLD!\n",
    "\n",
    "whispered_text = modify_text(\"HELLO WORLD!\", whisper)\n",
    "print(whispered_text)  # Output: hello world!"
   ]
  },
  {
   "cell_type": "markdown",
   "metadata": {},
   "source": [
    "## Lambda Functions\n",
    "used for short and simple expressions.\n",
    "cannot contain complex statements like if or for loops"
   ]
  },
  {
   "cell_type": "code",
   "execution_count": 13,
   "metadata": {},
   "outputs": [
    {
     "name": "stdout",
     "output_type": "stream",
     "text": [
      "8\n"
     ]
    }
   ],
   "source": [
    "add = lambda x, y: x + y\n",
    "\n",
    "result = add(5, 3)\n",
    "print(result)"
   ]
  },
  {
   "cell_type": "code",
   "execution_count": 14,
   "metadata": {},
   "outputs": [
    {
     "name": "stdout",
     "output_type": "stream",
     "text": [
      "Hello, Ayham!\n"
     ]
    }
   ],
   "source": [
    "say = lambda name: f\"Hello, {name}!\"\n",
    "\n",
    "print(say(\"Ayham\")) "
   ]
  },
  {
   "cell_type": "code",
   "execution_count": 15,
   "metadata": {},
   "outputs": [
    {
     "name": "stdout",
     "output_type": "stream",
     "text": [
      "['bmw', 'benz', 'toyota', 'maserati']\n"
     ]
    }
   ],
   "source": [
    "cars = [\"bmw\", \"benz\", \"maserati\", \"toyota\"] \n",
    "sorted_cars = sorted(cars, key=lambda car: len(car)) #sorting based on length\n",
    "\n",
    "print(sorted_cars)  "
   ]
  },
  {
   "cell_type": "markdown",
   "metadata": {},
   "source": [
    "## Map , Reduce and Filter  "
   ]
  },
  {
   "cell_type": "markdown",
   "metadata": {},
   "source": [
    "#### MAP - takes a function and a iteratable (list, tuple) to be processed\n",
    "\n",
    "\n",
    "\n"
   ]
  },
  {
   "cell_type": "code",
   "execution_count": 18,
   "metadata": {},
   "outputs": [
    {
     "name": "stdout",
     "output_type": "stream",
     "text": [
      "[1, 4, 9, 16, 25]\n"
     ]
    }
   ],
   "source": [
    "nums = [1, 2, 3, 4, 5]\n",
    "squared_nums = map(lambda x: x * x, nums) # Squaring\n",
    "print(list(squared_nums))"
   ]
  },
  {
   "cell_type": "markdown",
   "metadata": {},
   "source": [
    "#### Filter - takes a function giving true of things to be kept and false for discarding, and a iteratable"
   ]
  },
  {
   "cell_type": "code",
   "execution_count": 21,
   "metadata": {},
   "outputs": [
    {
     "name": "stdout",
     "output_type": "stream",
     "text": [
      "[2, 4, 6]\n"
     ]
    }
   ],
   "source": [
    "nums = [1, 2, 3, 4, 5, 6]\n",
    "even_numbers = filter(lambda x: x % 2 == 0, nums) #Only even nums\n",
    "print(list(even_numbers))"
   ]
  },
  {
   "cell_type": "markdown",
   "metadata": {},
   "source": [
    "#### Reduce\n",
    "less used, alternative for loops\n",
    "uses a function to convert a iteratable into a single value\n",
    "    "
   ]
  },
  {
   "cell_type": "code",
   "execution_count": 23,
   "metadata": {},
   "outputs": [
    {
     "name": "stdout",
     "output_type": "stream",
     "text": [
      "24\n"
     ]
    }
   ],
   "source": [
    "from functools import reduce  # need to import first\n",
    "\n",
    "nums = [1, 2, 3, 4]\n",
    "\n",
    "# product of all numbers in the list\n",
    "product = reduce(lambda x, y: x * y, nums)\n",
    "\n",
    "print(product)  # Output: 24\n",
    "\n",
    "\n",
    "#When you use loops, it looks like this\n",
    "\n",
    "product = 1\n",
    "for num in nums:\n",
    "  product *= num\n",
    "\n",
    "print(product) "
   ]
  },
  {
   "cell_type": "markdown",
   "metadata": {},
   "source": [
    "## Local and GLobal Variable\n"
   ]
  },
  {
   "cell_type": "code",
   "execution_count": 24,
   "metadata": {},
   "outputs": [
    {
     "name": "stdout",
     "output_type": "stream",
     "text": [
      "Outside function: 10\n",
      "Inside function: 10 20\n",
      "Inside inner function: 10 20 30\n"
     ]
    }
   ],
   "source": [
    "x = 10  # Global variable\n",
    "\n",
    "def my_function():\n",
    "  y = 20  # Local variable\n",
    "  print(\"Inside function:\", x, y)  # Accessing both global and local variables\n",
    "\n",
    "  def inner_function():\n",
    "    z = 30  # Local variable within inner_function\n",
    "    print(\"Inside inner function:\", x, y, z)  # Accessing global, local (outer), and local (inner) variables\n",
    "\n",
    "  inner_function()  # Calling inner_function\n",
    "\n",
    "print(\"Outside function:\", x)  # Accessing only the global variable\n",
    "\n",
    "my_function()"
   ]
  },
  {
   "cell_type": "markdown",
   "metadata": {},
   "source": [
    "## Return\n",
    "can be used to get outputs and use it on later functions\n",
    "also to exit a function"
   ]
  },
  {
   "cell_type": "code",
   "execution_count": null,
   "metadata": {},
   "outputs": [],
   "source": [
    "#single value returning\n",
    "\n",
    "def square(x):\n",
    "  \"\"\"This function squares a number.\"\"\"\n",
    "  return x * x\n",
    "\n",
    "result = square(5)\n",
    "print(result)  # Output: 25\n",
    "\n",
    "# Multiple value returning\n",
    "\n",
    "def get_name_and_age():\n",
    "  \"\"\"This function returns a person's name and age.\"\"\"\n",
    "  name = \"J\"\n",
    "  age = 30\n",
    "  return name, age  # Packing values into a tuple\n",
    "\n",
    "person_info = get_name_and_age()\n",
    "name, age = person_info  # Unpacking the returned tuple\n",
    "\n",
    "print(name, age)  # Output: J 30"
   ]
  }
 ],
 "metadata": {
  "kernelspec": {
   "display_name": "Python 3",
   "language": "python",
   "name": "python3"
  },
  "language_info": {
   "codemirror_mode": {
    "name": "ipython",
    "version": 3
   },
   "file_extension": ".py",
   "mimetype": "text/x-python",
   "name": "python",
   "nbconvert_exporter": "python",
   "pygments_lexer": "ipython3",
   "version": "3.12.3"
  }
 },
 "nbformat": 4,
 "nbformat_minor": 2
}
