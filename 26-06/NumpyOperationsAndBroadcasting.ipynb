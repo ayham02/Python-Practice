{
 "cells": [
  {
   "cell_type": "markdown",
   "metadata": {},
   "source": [
    "Basic Numpy Operations"
   ]
  },
  {
   "cell_type": "code",
   "execution_count": 6,
   "metadata": {},
   "outputs": [
    {
     "name": "stdout",
     "output_type": "stream",
     "text": [
      "[ 7  9 11 13 15]\n",
      "[5 5 5 5 5]\n",
      "[ 6 14 24 36 50]\n",
      "[6.         3.5        2.66666667 2.25       2.        ]\n"
     ]
    }
   ],
   "source": [
    "import numpy as np\n",
    "# Addition => adds 2 arrays element wise\n",
    "\n",
    "a = np.array([1,2,3,4,5])\n",
    "b = np.array([6,7,8,9,10])\n",
    "\n",
    "c = a + b\n",
    "print(c)\n",
    "\n",
    "# subtraction => subtracts 2 arrays element wise\n",
    "\n",
    "c = b - a\n",
    "print(c)\n",
    "\n",
    "# Multiplication => multiplies 2 arrays element wise\n",
    "\n",
    "c = b * a\n",
    "print(c)\n",
    "\n",
    "# Division => Divides 2 arrays element wise\n",
    "\n",
    "c = b / a\n",
    "print(c)"
   ]
  },
  {
   "cell_type": "markdown",
   "metadata": {},
   "source": [
    "scalar operations => multiply or divide an array with an scalar value\n"
   ]
  },
  {
   "cell_type": "code",
   "execution_count": 7,
   "metadata": {},
   "outputs": [
    {
     "name": "stdout",
     "output_type": "stream",
     "text": [
      "[ 2  4  6  8 10] [0.5 1.  1.5 2.  2.5]\n"
     ]
    }
   ],
   "source": [
    "#scalar operations\n",
    "\n",
    "a = np.array([1,2,3,4,5])\n",
    "\n",
    "b = a * 2\n",
    "c = a / 2\n",
    "print(b,c)"
   ]
  },
  {
   "cell_type": "markdown",
   "metadata": {},
   "source": [
    "np.sqrt() => return the square root of the elements in the array"
   ]
  },
  {
   "cell_type": "code",
   "execution_count": null,
   "metadata": {},
   "outputs": [],
   "source": [
    "a = np.array([1,2,3,4,5])\n",
    "print()"
   ]
  },
  {
   "cell_type": "markdown",
   "metadata": {},
   "source": [
    "np.exp() ==> returns the exponential of each element in the array"
   ]
  },
  {
   "cell_type": "code",
   "execution_count": 8,
   "metadata": {},
   "outputs": [
    {
     "name": "stdout",
     "output_type": "stream",
     "text": [
      "[  2.71828183   7.3890561   20.08553692  54.59815003 148.4131591 ]\n"
     ]
    }
   ],
   "source": [
    "a = np.array([1,2,3,4,5])\n",
    "\n",
    "b = np.exp(a)\n",
    "\n",
    "print(b)"
   ]
  },
  {
   "cell_type": "markdown",
   "metadata": {},
   "source": [
    "### Broadcasting\n",
    "allows arithemtic operations between arrays of different shapes. Duplicates the smaller array along the missing dimesions to match the shapes of larger array without explicitly changing.`"
   ]
  },
  {
   "cell_type": "code",
   "execution_count": 11,
   "metadata": {},
   "outputs": [
    {
     "name": "stdout",
     "output_type": "stream",
     "text": [
      "[3 4 5 6 7]\n",
      "[[2 4 6]\n",
      " [5 7 9]]\n"
     ]
    }
   ],
   "source": [
    "# 1D Array and Scalar\n",
    "\n",
    "a = np.array([1,2,3,4,5])\n",
    "b = 2\n",
    "c = a + b\n",
    "print(c)\n",
    "\n",
    "# 2D array and array\n",
    "\n",
    "a = np.array([1,2,3])\n",
    "b = np.array([[1,2,3],[4,5,6]])\n",
    "c = b + a\n",
    "print(c)"
   ]
  },
  {
   "cell_type": "markdown",
   "metadata": {},
   "source": [
    "#### Rules to follow while broadcastitng\n",
    "* If array have same shape, there is no need for broadcasting,the operation is conducted element wise\n",
    "* If smaller size, Numpy attempts to broadcast the smaller arrays shape matching the size of the larger array\n",
    "* if dimensions are different, then it starts from the left compares both the arrays and adds one to smaller one, trying make the dimesions both same.\n",
    "* Once they hace same shape, it tries to match the size of each dimension, if one of the dimensions is one, it stretches to match the dimension of the other one"
   ]
  },
  {
   "cell_type": "markdown",
   "metadata": {},
   "source": [
    "* if still doesnt match the prepending 1's afer broadcasting, it raises valueError"
   ]
  },
  {
   "cell_type": "markdown",
   "metadata": {},
   "source": [
    "## Element - wise operations and their efficiency"
   ]
  },
  {
   "cell_type": "markdown",
   "metadata": {},
   "source": [
    "* high efficiency manner\n",
    "* operations are vectorized, maens they are applied to the entire arrays at once. Vectorizaion key factor to its efficiency avoiding the Python lvl loops and allows operations to perform at single step"
   ]
  },
  {
   "cell_type": "code",
   "execution_count": 2,
   "metadata": {},
   "outputs": [
    {
     "name": "stdout",
     "output_type": "stream",
     "text": [
      "NumPy element-wise addition took: 0.018996 seconds\n",
      "Python list element-wise addition took: 1.879334 seconds\n"
     ]
    }
   ],
   "source": [
    "\n",
    "import time\n",
    "import numpy as np\n",
    "\n",
    "# Create large arrays\n",
    "a = np.random.rand(10000000)\n",
    "b = np.random.rand(10000000)\n",
    "\n",
    "# Element-wise operations in NumPy\n",
    "start = time.time()\n",
    "c = a + b\n",
    "end = time.time()\n",
    "print(f\"NumPy element-wise addition took: {end - start:.6f} seconds\")\n",
    "\n",
    "# Element-wise operations in Python lists\n",
    "start = time.time()\n",
    "x = [i for i in range(10000000)]\n",
    "y = [i for i in range(10000000)]\n",
    "z = [x[i] + y[i] for i in range(10000000)]\n",
    "end = time.time()\n",
    "print(f\"Python list element-wise addition took: {end - start:.6f} seconds\")"
   ]
  },
  {
   "cell_type": "markdown",
   "metadata": {},
   "source": [
    "Above shows the efficiency of the numpy operations compared to the python level operations."
   ]
  },
  {
   "cell_type": "markdown",
   "metadata": {},
   "source": [
    "### Indexing and Slicing."
   ]
  },
  {
   "cell_type": "markdown",
   "metadata": {},
   "source": [
    "1. Basic Indexing\n"
   ]
  },
  {
   "cell_type": "code",
   "execution_count": 6,
   "metadata": {},
   "outputs": [
    {
     "name": "stdout",
     "output_type": "stream",
     "text": [
      "1\n",
      "6\n",
      "1\n",
      "4\n"
     ]
    }
   ],
   "source": [
    "#1D array\n",
    "a = np.array([1,2,3,4,5,6])\n",
    "print(a[0])\n",
    "print(a[5])\n",
    "\n",
    "b = np.array([[1,2,3],[4,5,6]])\n",
    "print(b[0,0])\n",
    "print(b[1,0])"
   ]
  },
  {
   "cell_type": "markdown",
   "metadata": {},
   "source": [
    "2. Fancy Indexing"
   ]
  },
  {
   "cell_type": "code",
   "execution_count": 12,
   "metadata": {},
   "outputs": [
    {
     "name": "stdout",
     "output_type": "stream",
     "text": [
      "[1 3 5]\n",
      "[1 6]\n"
     ]
    }
   ],
   "source": [
    "#1D array\n",
    "a = np.array([1,2,3,4,5,6])\n",
    "indices = np.array([0,2,4])\n",
    "print(a[indices])\n",
    "\n",
    "#2D array\n",
    "a = np.array([[1,2,3],[4,5,6]])\n",
    "row = np.array([0,1])\n",
    "cols = np.array([0,2])\n",
    "print(b[row,cols])"
   ]
  }
 ],
 "metadata": {
  "kernelspec": {
   "display_name": "Python 3",
   "language": "python",
   "name": "python3"
  },
  "language_info": {
   "codemirror_mode": {
    "name": "ipython",
    "version": 3
   },
   "file_extension": ".py",
   "mimetype": "text/x-python",
   "name": "python",
   "nbconvert_exporter": "python",
   "pygments_lexer": "ipython3",
   "version": "3.12.4"
  }
 },
 "nbformat": 4,
 "nbformat_minor": 2
}
