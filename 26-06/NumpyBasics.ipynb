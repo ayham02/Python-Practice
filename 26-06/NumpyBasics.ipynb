{
 "cells": [
  {
   "cell_type": "markdown",
   "metadata": {},
   "source": [
    "NumPy Arrays"
   ]
  },
  {
   "cell_type": "code",
   "execution_count": 2,
   "metadata": {},
   "outputs": [
    {
     "name": "stdout",
     "output_type": "stream",
     "text": [
      "(5,)\n",
      "(2, 3)\n",
      "(2, 2, 2)\n"
     ]
    }
   ],
   "source": [
    "import numpy as np\n",
    "\n",
    "# shape return the dimensions of the array\n",
    "\n",
    "# 1D arrays\n",
    "array1 = np.array([1,2,3,4,5])\n",
    "print(array1.shape)\n",
    "\n",
    "# 2D arrays \n",
    "array2 = np.array ([[1,2,3],[4,5,6]])\n",
    "print(array2.shape)\n",
    "\n",
    "# 3D arrays\n",
    "array3 = np.array([[[1,2],[3,4]],[[5,6],[7,8]]])\n",
    "print(array3.shape)\n",
    "\n"
   ]
  },
  {
   "cell_type": "code",
   "execution_count": 3,
   "metadata": {},
   "outputs": [
    {
     "name": "stdout",
     "output_type": "stream",
     "text": [
      "5\n"
     ]
    }
   ],
   "source": [
    "import numpy as np\n",
    "\n",
    "# size return the total number of elements in the array\n",
    "\n",
    "a1 = np.array([1,2,3,4,5])\n",
    "print(a1.size)\n"
   ]
  },
  {
   "cell_type": "code",
   "execution_count": 6,
   "metadata": {},
   "outputs": [
    {
     "name": "stdout",
     "output_type": "stream",
     "text": [
      "int64\n",
      "float64\n",
      "complex128\n",
      "bool\n",
      "[1. 2. 3. 4.] float32\n"
     ]
    }
   ],
   "source": [
    "import numpy as np\n",
    "\n",
    "# dtype return the data type of the elements in the array\n",
    "\n",
    "a2 = np.array ([[1,2,3],[4,5,6]])\n",
    "a3 = np.array ([[1.0,2.0,3.0],[4.0,5.0,6.0]])\n",
    "a4 = np.array ([[1+2j,2+3j,3+4j],[4+5j,5+6j,6+7j]])\n",
    "a5 = np.array ([[True,False,True],[False,True,False]])\n",
    "print(a2.dtype)\n",
    "print(a3.dtype)\n",
    "print(a4.dtype)\n",
    "print(a5.dtype)\n",
    "\n",
    "# also can specify the dtype when creating an array\n",
    "\n",
    "a = np.array([1,2,3,4], dtype=np.float32)\n",
    "print(a,a.dtype)"
   ]
  },
  {
   "cell_type": "markdown",
   "metadata": {},
   "source": [
    "np.array([]) ==> Used to create an array from a python list\n"
   ]
  },
  {
   "cell_type": "markdown",
   "metadata": {},
   "source": [
    "np.asarray() ==> Convert input into array"
   ]
  },
  {
   "cell_type": "code",
   "execution_count": 9,
   "metadata": {},
   "outputs": [
    {
     "name": "stdout",
     "output_type": "stream",
     "text": [
      "[1 2 3 4 5]\n",
      "[10 20 40]\n"
     ]
    }
   ],
   "source": [
    "import numpy as np\n",
    "\n",
    "# from list\n",
    "\n",
    "c = [1,2,3,4,5]\n",
    "a1 = np.asarray(c)\n",
    "print(a)\n",
    "\n",
    "# from tuple\n",
    "\n",
    "c1 = (10,20,40)\n",
    "a1 = np.asarray(c1)\n",
    "print(a1)\n"
   ]
  },
  {
   "cell_type": "markdown",
   "metadata": {},
   "source": [
    "np.ones() ===> creates an array filled with ones"
   ]
  },
  {
   "cell_type": "code",
   "execution_count": 12,
   "metadata": {},
   "outputs": [
    {
     "name": "stdout",
     "output_type": "stream",
     "text": [
      "[1. 1. 1. 1. 1.]\n",
      "[[1. 1. 1. 1.]\n",
      " [1. 1. 1. 1.]\n",
      " [1. 1. 1. 1.]]\n"
     ]
    }
   ],
   "source": [
    "# creating a 1D array filled with ones\n",
    "\n",
    "a = np.ones(5)\n",
    "print(a)\n",
    "\n",
    "# creating a 2D array filled with ones\n",
    "\n",
    "a = np.ones((3,4))\n",
    "print(a)"
   ]
  },
  {
   "cell_type": "markdown",
   "metadata": {},
   "source": [
    "np.zeros() ==> creates an array filled with zeros"
   ]
  },
  {
   "cell_type": "code",
   "execution_count": 14,
   "metadata": {},
   "outputs": [
    {
     "name": "stdout",
     "output_type": "stream",
     "text": [
      "[0. 0. 0. 0.]\n",
      "[[0. 0. 0. 0.]\n",
      " [0. 0. 0. 0.]\n",
      " [0. 0. 0. 0.]]\n"
     ]
    }
   ],
   "source": [
    "# 1D array filled with zeros\n",
    "\n",
    "b = np.zeros(4)\n",
    "print(b)\n",
    "\n",
    "#2D array filled with zeros\n",
    "\n",
    "b = np.zeros((3,4))\n",
    "print(b)\n"
   ]
  },
  {
   "cell_type": "markdown",
   "metadata": {},
   "source": [
    "np.empty() ==> creates an uninitialized array"
   ]
  },
  {
   "cell_type": "code",
   "execution_count": 19,
   "metadata": {},
   "outputs": [
    {
     "name": "stdout",
     "output_type": "stream",
     "text": [
      "[1. 1. 1. 1. 1.]\n",
      "[[0. 0. 0. 0.]\n",
      " [0. 0. 0. 0.]\n",
      " [0. 0. 0. 0.]]\n"
     ]
    }
   ],
   "source": [
    "\n",
    "# unintialized array 1D\n",
    "\n",
    "b = np.empty(5)\n",
    "print(b)\n",
    "\n",
    "# 2D uninitialized array\n",
    "\n",
    "b = np.empty((3, 4))\n",
    "print(b)"
   ]
  },
  {
   "cell_type": "markdown",
   "metadata": {},
   "source": [
    "np.arange() ==> creates a sequence of numbers within a range"
   ]
  },
  {
   "cell_type": "code",
   "execution_count": 22,
   "metadata": {},
   "outputs": [
    {
     "name": "stdout",
     "output_type": "stream",
     "text": [
      "[ 0  1  2  3  4  5  6  7  8  9 10 11 12 13 14 15 16 17 18 19]\n",
      "[3 5 7 9]\n"
     ]
    }
   ],
   "source": [
    "a = np.arange(20)\n",
    "print(a)\n",
    "\n",
    "# sequence from 3 to 10 with step 2\n",
    "\n",
    "a = np.arange(3,10,2)\n",
    "print(a)"
   ]
  },
  {
   "cell_type": "markdown",
   "metadata": {},
   "source": [
    "np.linspace() ==> array with evenly spaced values within a range"
   ]
  },
  {
   "cell_type": "code",
   "execution_count": 23,
   "metadata": {},
   "outputs": [
    {
     "name": "stdout",
     "output_type": "stream",
     "text": [
      "[0.   0.25 0.5  0.75 1.  ]\n"
     ]
    }
   ],
   "source": [
    "# 5 evenly spaced values between 0 and 1\n",
    "\n",
    "a = np.linspace(0,1,5)\n",
    "print(a)"
   ]
  },
  {
   "cell_type": "markdown",
   "metadata": {},
   "source": [
    "np.eye() ==> square identity matrix"
   ]
  },
  {
   "cell_type": "code",
   "execution_count": 25,
   "metadata": {},
   "outputs": [
    {
     "name": "stdout",
     "output_type": "stream",
     "text": [
      "[[1. 0.]\n",
      " [0. 1.]]\n",
      "[[1. 0. 0.]\n",
      " [0. 1. 0.]\n",
      " [0. 0. 1.]]\n"
     ]
    }
   ],
   "source": [
    "# 2x2 identity matrix\n",
    "\n",
    "a = np.eye(2)\n",
    "\n",
    "print(a)\n",
    "\n",
    "# 3x3 identity matrix\n",
    "\n",
    "a = np.eye(3)\n",
    "print(a)"
   ]
  }
 ],
 "metadata": {
  "kernelspec": {
   "display_name": "Python 3",
   "language": "python",
   "name": "python3"
  },
  "language_info": {
   "codemirror_mode": {
    "name": "ipython",
    "version": 3
   },
   "file_extension": ".py",
   "mimetype": "text/x-python",
   "name": "python",
   "nbconvert_exporter": "python",
   "pygments_lexer": "ipython3",
   "version": "3.12.4"
  }
 },
 "nbformat": 4,
 "nbformat_minor": 2
}
